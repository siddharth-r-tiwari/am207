{
 "cells": [
  {
   "cell_type": "code",
   "execution_count": 19,
   "metadata": {},
   "outputs": [],
   "source": [
    "import pandas as pd\n",
    "import matplotlib.pyplot as plt\n",
    "import ray\n",
    "from prophet import Prophet"
   ]
  },
  {
   "cell_type": "markdown",
   "metadata": {},
   "source": [
    "Preliminary data changes"
   ]
  },
  {
   "cell_type": "code",
   "execution_count": 20,
   "metadata": {},
   "outputs": [
    {
     "name": "stderr",
     "output_type": "stream",
     "text": [
      "<>:6: SyntaxWarning: invalid escape sequence '\\d'\n",
      "<>:6: SyntaxWarning: invalid escape sequence '\\d'\n",
      "/var/folders/hh/rn_fsj015zz6cmlmssx4w0y00000gn/T/ipykernel_24642/2419203732.py:6: SyntaxWarning: invalid escape sequence '\\d'\n",
      "  df[\"Week\"] = df[\"Week\"].str.extract('(\\d+)').astype(int)\n"
     ]
    }
   ],
   "source": [
    "df = pd.read_csv(\"product_sales.csv\")\n",
    "# Drop random columns\n",
    "df = df.drop(columns=[\"Unnamed: 107\", \"94\"])\n",
    "# Melt data and remove strings for week names\n",
    "df = df.melt(id_vars=[\"Scode\", \"Pcode\", \"Price\"], var_name=\"Week\", value_name=\"Quantity Sold\")\n",
    "df[\"Week\"] = df[\"Week\"].str.extract('(\\d+)').astype(int)"
   ]
  },
  {
   "cell_type": "markdown",
   "metadata": {},
   "source": [
    "Interpolate data: for each date present in the dataset, we create a data point for each SKU when it doesn’t exist– it will use the same quantity and unit price as the most recent date where that SKU has a data point. \n",
    "Use time series (ARIMA model) to forecast future dates. Use these as validation data for the hyperparameter search. This way we are making optimal policies for the most recent data, and calculating our loss based on forecasted data.\n"
   ]
  },
  {
   "cell_type": "markdown",
   "metadata": {},
   "source": [
    "# Use Prophet for short term interpolation"
   ]
  },
  {
   "cell_type": "code",
   "execution_count": 21,
   "metadata": {},
   "outputs": [
    {
     "data": {
      "text/html": [
       "<div>\n",
       "<style scoped>\n",
       "    .dataframe tbody tr th:only-of-type {\n",
       "        vertical-align: middle;\n",
       "    }\n",
       "\n",
       "    .dataframe tbody tr th {\n",
       "        vertical-align: top;\n",
       "    }\n",
       "\n",
       "    .dataframe thead th {\n",
       "        text-align: right;\n",
       "    }\n",
       "</style>\n",
       "<table border=\"1\" class=\"dataframe\">\n",
       "  <thead>\n",
       "    <tr style=\"text-align: right;\">\n",
       "      <th></th>\n",
       "      <th>Scode</th>\n",
       "      <th>Pcode</th>\n",
       "      <th>Price</th>\n",
       "      <th>Week</th>\n",
       "      <th>Quantity Sold</th>\n",
       "    </tr>\n",
       "  </thead>\n",
       "  <tbody>\n",
       "    <tr>\n",
       "      <th>0</th>\n",
       "      <td>Store1</td>\n",
       "      <td>SKU1</td>\n",
       "      <td>$24.00</td>\n",
       "      <td>0</td>\n",
       "      <td>23</td>\n",
       "    </tr>\n",
       "    <tr>\n",
       "      <th>1</th>\n",
       "      <td>Store1</td>\n",
       "      <td>SKU2</td>\n",
       "      <td>$63.00</td>\n",
       "      <td>0</td>\n",
       "      <td>23</td>\n",
       "    </tr>\n",
       "    <tr>\n",
       "      <th>2</th>\n",
       "      <td>Store1</td>\n",
       "      <td>SKU3</td>\n",
       "      <td>$93.00</td>\n",
       "      <td>0</td>\n",
       "      <td>7</td>\n",
       "    </tr>\n",
       "    <tr>\n",
       "      <th>3</th>\n",
       "      <td>Store1</td>\n",
       "      <td>SKU4</td>\n",
       "      <td>$48.00</td>\n",
       "      <td>0</td>\n",
       "      <td>50</td>\n",
       "    </tr>\n",
       "    <tr>\n",
       "      <th>4</th>\n",
       "      <td>Store1</td>\n",
       "      <td>SKU5</td>\n",
       "      <td>$62.00</td>\n",
       "      <td>0</td>\n",
       "      <td>8</td>\n",
       "    </tr>\n",
       "    <tr>\n",
       "      <th>...</th>\n",
       "      <td>...</td>\n",
       "      <td>...</td>\n",
       "      <td>...</td>\n",
       "      <td>...</td>\n",
       "      <td>...</td>\n",
       "    </tr>\n",
       "    <tr>\n",
       "      <th>623995</th>\n",
       "      <td>Store5</td>\n",
       "      <td>SKU1809</td>\n",
       "      <td>$71.00</td>\n",
       "      <td>103</td>\n",
       "      <td>39</td>\n",
       "    </tr>\n",
       "    <tr>\n",
       "      <th>623996</th>\n",
       "      <td>Store5</td>\n",
       "      <td>SKU1563</td>\n",
       "      <td>$64.00</td>\n",
       "      <td>103</td>\n",
       "      <td>24</td>\n",
       "    </tr>\n",
       "    <tr>\n",
       "      <th>623997</th>\n",
       "      <td>Store5</td>\n",
       "      <td>SKU897</td>\n",
       "      <td>$77.00</td>\n",
       "      <td>103</td>\n",
       "      <td>28</td>\n",
       "    </tr>\n",
       "    <tr>\n",
       "      <th>623998</th>\n",
       "      <td>Store5</td>\n",
       "      <td>SKU1142</td>\n",
       "      <td>$81.00</td>\n",
       "      <td>103</td>\n",
       "      <td>31</td>\n",
       "    </tr>\n",
       "    <tr>\n",
       "      <th>623999</th>\n",
       "      <td>Store5</td>\n",
       "      <td>SKU2107</td>\n",
       "      <td>$54.00</td>\n",
       "      <td>103</td>\n",
       "      <td>22</td>\n",
       "    </tr>\n",
       "  </tbody>\n",
       "</table>\n",
       "<p>624000 rows × 5 columns</p>\n",
       "</div>"
      ],
      "text/plain": [
       "         Scode    Pcode    Price  Week  Quantity Sold\n",
       "0       Store1     SKU1  $24.00      0             23\n",
       "1       Store1     SKU2  $63.00      0             23\n",
       "2       Store1     SKU3  $93.00      0              7\n",
       "3       Store1     SKU4  $48.00      0             50\n",
       "4       Store1     SKU5  $62.00      0              8\n",
       "...        ...      ...      ...   ...            ...\n",
       "623995  Store5  SKU1809  $71.00    103             39\n",
       "623996  Store5  SKU1563  $64.00    103             24\n",
       "623997  Store5   SKU897  $77.00    103             28\n",
       "623998  Store5  SKU1142  $81.00    103             31\n",
       "623999  Store5  SKU2107  $54.00    103             22\n",
       "\n",
       "[624000 rows x 5 columns]"
      ]
     },
     "execution_count": 21,
     "metadata": {},
     "output_type": "execute_result"
    }
   ],
   "source": [
    "df"
   ]
  },
  {
   "cell_type": "code",
   "execution_count": 22,
   "metadata": {},
   "outputs": [],
   "source": [
    "# Will contain (store, sku) pair\n",
    "all_unique_combos = []\n",
    "stores = df[\"Scode\"].unique()\n",
    "# How many stores do we want to forecast for\n",
    "stores = stores[:1] \n",
    "for store in stores:\n",
    "    holder = df[df[\"Scode\"] == store]\n",
    "    skus = holder[\"Pcode\"].unique()\n",
    "    for sku in skus:\n",
    "        all_unique_combos.append((store, sku))\n"
   ]
  },
  {
   "cell_type": "code",
   "execution_count": 23,
   "metadata": {},
   "outputs": [],
   "source": [
    "# Parellelize this forecasting for speed\n",
    "@ray.remote\n",
    "def forecast_dates(df, pair):\n",
    "    value_column = df[(df[\"Pcode\"] == pair[1]) & (df[\"Scode\"] == pair[0])].reset_index(drop=True)\n",
    "    value_column = value_column[\"Quantity Sold\"]\n",
    "    start_date = \"2023-01-01\"  # Choose an arbitrary start date\n",
    "    date_range = pd.date_range(start=start_date, periods=len(value_column), freq='W') \n",
    "    data = pd.DataFrame({'ds': date_range, 'y': value_column})\n",
    "    model = Prophet(weekly_seasonality=True, yearly_seasonality=True)\n",
    "    model.fit(data)\n",
    "    future = model.make_future_dataframe(periods=50, freq='W')\n",
    "    forecast = model.predict(future)\n",
    "    return data, forecast"
   ]
  },
  {
   "cell_type": "code",
   "execution_count": 24,
   "metadata": {},
   "outputs": [
    {
     "name": "stderr",
     "output_type": "stream",
     "text": [
      "2024-12-01 09:41:07,966\tINFO worker.py:1652 -- Calling ray.init() again after it has already been called.\n",
      "2024-12-01 09:41:08,259\tWARNING dataset.py:4895 -- `Dataset.get_internal_block_refs()` is deprecated. Use `Dataset.iter_internal_ref_bundles()` instead.\n",
      "2024-12-01 09:41:08,261\tINFO streaming_executor.py:108 -- Starting execution of Dataset. Full logs are in /tmp/ray/session_2024-12-01_09-39-21_327780_24642/logs/ray-data\n",
      "2024-12-01 09:41:08,262\tINFO streaming_executor.py:109 -- Execution plan of Dataset: InputDataBuffer[Input] -> AllToAllOperator[Repartition]\n"
     ]
    },
    {
     "data": {
      "application/vnd.jupyter.widget-view+json": {
       "model_id": "5cde0c536c3e443183889882d2a7cea2",
       "version_major": 2,
       "version_minor": 0
      },
      "text/plain": [
       "Running 0: 0.00 row [00:00, ? row/s]"
      ]
     },
     "metadata": {},
     "output_type": "display_data"
    },
    {
     "data": {
      "application/vnd.jupyter.widget-view+json": {
       "model_id": "2e94f8886e6345bfb9f3f8fad7bc211a",
       "version_major": 2,
       "version_minor": 0
      },
      "text/plain": [
       "- Repartition 1: 0.00 row [00:00, ? row/s]"
      ]
     },
     "metadata": {},
     "output_type": "display_data"
    },
    {
     "data": {
      "application/vnd.jupyter.widget-view+json": {
       "model_id": "8b2461097c114fcba8d56de5391872b1",
       "version_major": 2,
       "version_minor": 0
      },
      "text/plain": [
       "Split Repartition 2:   0%|          | 0.00/1.00 [00:00<?, ? row/s]"
      ]
     },
     "metadata": {},
     "output_type": "display_data"
    }
   ],
   "source": [
    "ray.init(log_to_driver=False, ignore_reinit_error=True)\n",
    "ds = ray.data.from_pandas(df).repartition(1)\n",
    "block_refs = ds.get_internal_block_refs()\n"
   ]
  },
  {
   "cell_type": "code",
   "execution_count": 25,
   "metadata": {},
   "outputs": [
    {
     "data": {
      "text/plain": [
       "ObjectRef(842a8fe6170509b1ffffffffffffffffffffffff0100000001000000)"
      ]
     },
     "execution_count": 25,
     "metadata": {},
     "output_type": "execute_result"
    }
   ],
   "source": [
    "block_refs[0]"
   ]
  },
  {
   "cell_type": "code",
   "execution_count": 26,
   "metadata": {},
   "outputs": [],
   "source": [
    "forecast_futures = [\n",
    "    forecast_dates.remote(\n",
    "        block_refs[0],\n",
    "        pair\n",
    "    )\n",
    "    for pair in all_unique_combos\n",
    "]"
   ]
  },
  {
   "cell_type": "code",
   "execution_count": 27,
   "metadata": {},
   "outputs": [],
   "source": [
    "results = ray.get(forecast_futures)"
   ]
  },
  {
   "cell_type": "code",
   "execution_count": 28,
   "metadata": {},
   "outputs": [],
   "source": [
    "store1df = df[df[\"Scode\"] == \"Store1\"]"
   ]
  },
  {
   "cell_type": "code",
   "execution_count": 29,
   "metadata": {},
   "outputs": [
    {
     "data": {
      "text/html": [
       "<div>\n",
       "<style scoped>\n",
       "    .dataframe tbody tr th:only-of-type {\n",
       "        vertical-align: middle;\n",
       "    }\n",
       "\n",
       "    .dataframe tbody tr th {\n",
       "        vertical-align: top;\n",
       "    }\n",
       "\n",
       "    .dataframe thead th {\n",
       "        text-align: right;\n",
       "    }\n",
       "</style>\n",
       "<table border=\"1\" class=\"dataframe\">\n",
       "  <thead>\n",
       "    <tr style=\"text-align: right;\">\n",
       "      <th></th>\n",
       "      <th>Scode</th>\n",
       "      <th>Pcode</th>\n",
       "      <th>Price</th>\n",
       "      <th>Week</th>\n",
       "      <th>Quantity Sold</th>\n",
       "    </tr>\n",
       "  </thead>\n",
       "  <tbody>\n",
       "    <tr>\n",
       "      <th>0</th>\n",
       "      <td>Store1</td>\n",
       "      <td>SKU1</td>\n",
       "      <td>$24.00</td>\n",
       "      <td>0</td>\n",
       "      <td>23</td>\n",
       "    </tr>\n",
       "    <tr>\n",
       "      <th>1</th>\n",
       "      <td>Store1</td>\n",
       "      <td>SKU1</td>\n",
       "      <td>$24.00</td>\n",
       "      <td>1</td>\n",
       "      <td>48</td>\n",
       "    </tr>\n",
       "    <tr>\n",
       "      <th>2</th>\n",
       "      <td>Store1</td>\n",
       "      <td>SKU1</td>\n",
       "      <td>$24.00</td>\n",
       "      <td>2</td>\n",
       "      <td>47</td>\n",
       "    </tr>\n",
       "    <tr>\n",
       "      <th>3</th>\n",
       "      <td>Store1</td>\n",
       "      <td>SKU1</td>\n",
       "      <td>$24.00</td>\n",
       "      <td>3</td>\n",
       "      <td>42</td>\n",
       "    </tr>\n",
       "    <tr>\n",
       "      <th>4</th>\n",
       "      <td>Store1</td>\n",
       "      <td>SKU1</td>\n",
       "      <td>$24.00</td>\n",
       "      <td>4</td>\n",
       "      <td>22</td>\n",
       "    </tr>\n",
       "    <tr>\n",
       "      <th>...</th>\n",
       "      <td>...</td>\n",
       "      <td>...</td>\n",
       "      <td>...</td>\n",
       "      <td>...</td>\n",
       "      <td>...</td>\n",
       "    </tr>\n",
       "    <tr>\n",
       "      <th>99</th>\n",
       "      <td>Store1</td>\n",
       "      <td>SKU1</td>\n",
       "      <td>$24.00</td>\n",
       "      <td>99</td>\n",
       "      <td>133</td>\n",
       "    </tr>\n",
       "    <tr>\n",
       "      <th>100</th>\n",
       "      <td>Store1</td>\n",
       "      <td>SKU1</td>\n",
       "      <td>$24.00</td>\n",
       "      <td>100</td>\n",
       "      <td>229</td>\n",
       "    </tr>\n",
       "    <tr>\n",
       "      <th>101</th>\n",
       "      <td>Store1</td>\n",
       "      <td>SKU1</td>\n",
       "      <td>$24.00</td>\n",
       "      <td>101</td>\n",
       "      <td>381</td>\n",
       "    </tr>\n",
       "    <tr>\n",
       "      <th>102</th>\n",
       "      <td>Store1</td>\n",
       "      <td>SKU1</td>\n",
       "      <td>$24.00</td>\n",
       "      <td>102</td>\n",
       "      <td>21</td>\n",
       "    </tr>\n",
       "    <tr>\n",
       "      <th>103</th>\n",
       "      <td>Store1</td>\n",
       "      <td>SKU1</td>\n",
       "      <td>$24.00</td>\n",
       "      <td>103</td>\n",
       "      <td>31</td>\n",
       "    </tr>\n",
       "  </tbody>\n",
       "</table>\n",
       "<p>104 rows × 5 columns</p>\n",
       "</div>"
      ],
      "text/plain": [
       "      Scode Pcode    Price  Week  Quantity Sold\n",
       "0    Store1  SKU1  $24.00      0             23\n",
       "1    Store1  SKU1  $24.00      1             48\n",
       "2    Store1  SKU1  $24.00      2             47\n",
       "3    Store1  SKU1  $24.00      3             42\n",
       "4    Store1  SKU1  $24.00      4             22\n",
       "..      ...   ...      ...   ...            ...\n",
       "99   Store1  SKU1  $24.00     99            133\n",
       "100  Store1  SKU1  $24.00    100            229\n",
       "101  Store1  SKU1  $24.00    101            381\n",
       "102  Store1  SKU1  $24.00    102             21\n",
       "103  Store1  SKU1  $24.00    103             31\n",
       "\n",
       "[104 rows x 5 columns]"
      ]
     },
     "execution_count": 29,
     "metadata": {},
     "output_type": "execute_result"
    }
   ],
   "source": [
    "store1df[store1df[\"Pcode\"] == \"SKU1\"].reset_index(drop=True)"
   ]
  },
  {
   "cell_type": "code",
   "execution_count": 30,
   "metadata": {},
   "outputs": [],
   "source": [
    "subset = store1df[(store1df[\"Scode\"] == \"Store1\") & (store1df[\"Pcode\"] == \"SKU1\")].iloc[0]"
   ]
  },
  {
   "cell_type": "code",
   "execution_count": 31,
   "metadata": {},
   "outputs": [
    {
     "data": {
      "text/plain": [
       "Scode             Store1\n",
       "Pcode               SKU1\n",
       "Price            $24.00 \n",
       "Week                   0\n",
       "Quantity Sold         23\n",
       "Name: 0, dtype: object"
      ]
     },
     "execution_count": 31,
     "metadata": {},
     "output_type": "execute_result"
    }
   ],
   "source": [
    "subset"
   ]
  },
  {
   "cell_type": "code",
   "execution_count": 32,
   "metadata": {},
   "outputs": [],
   "source": [
    "# start with all info from store1\n",
    "skus = store1df[\"Pcode\"].unique()\n",
    "store = \"Store1\"\n",
    "for i,sku in enumerate(skus):\n",
    "    # SKU info\n",
    "    subset = store1df[(store1df[\"Scode\"] == store) & (store1df[\"Pcode\"] == sku)].iloc[0]\n",
    "    price = subset[\"Price\"]\n",
    "    # Get new week info\n",
    "    curr_df = results[i][1]\n",
    "    new_df = curr_df[104:].reset_index()\n",
    "    new_df = new_df[[\"index\", \"yhat\"]].rename(columns={\"index\": \"Week\", \"yhat\": \"Quantity Sold\"})\n",
    "    new_df[\"Scode\"] = store\n",
    "    new_df[\"Pcode\"] = sku\n",
    "    new_df[\"Price\"] = price\n",
    "    store1df = pd.concat([store1df, new_df]).reset_index(drop=True)"
   ]
  },
  {
   "cell_type": "code",
   "execution_count": 35,
   "metadata": {},
   "outputs": [],
   "source": [
    "store1df = store1df.drop_duplicates()"
   ]
  },
  {
   "cell_type": "code",
   "execution_count": 36,
   "metadata": {},
   "outputs": [],
   "source": [
    "store1df.to_csv(\"ForecastedInformation.csv\", index=False)"
   ]
  },
  {
   "cell_type": "code",
   "execution_count": null,
   "metadata": {},
   "outputs": [],
   "source": []
  }
 ],
 "metadata": {
  "kernelspec": {
   "display_name": "base",
   "language": "python",
   "name": "python3"
  },
  "language_info": {
   "codemirror_mode": {
    "name": "ipython",
    "version": 3
   },
   "file_extension": ".py",
   "mimetype": "text/x-python",
   "name": "python",
   "nbconvert_exporter": "python",
   "pygments_lexer": "ipython3",
   "version": "3.12.2"
  }
 },
 "nbformat": 4,
 "nbformat_minor": 2
}
