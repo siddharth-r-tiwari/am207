{
 "cells": [
  {
   "cell_type": "code",
   "execution_count": 8,
   "metadata": {},
   "outputs": [],
   "source": [
    "import pandas as pd\n",
    "import numpy as np\n",
    "import matplotlib.pyplot as plt"
   ]
  },
  {
   "cell_type": "markdown",
   "metadata": {},
   "source": [
    "### Load Data"
   ]
  },
  {
   "cell_type": "markdown",
   "metadata": {},
   "source": [
    "Required format:\n",
    "- Pcode: SKU code\n",
    "- Price: Unit price of SKU\n",
    "- Week: Which week it is \n",
    "- Quantity Sold: Quantity of SKU sold on the current week"
   ]
  },
  {
   "cell_type": "code",
   "execution_count": 9,
   "metadata": {},
   "outputs": [],
   "source": [
    "forecasted_info = pd.read_csv(\"ForecastedInformation.csv\")"
   ]
  },
  {
   "cell_type": "markdown",
   "metadata": {},
   "source": [
    "## Differential Evolution"
   ]
  },
  {
   "cell_type": "code",
   "execution_count": 10,
   "metadata": {},
   "outputs": [],
   "source": [
    "# One random number generator for algo\n",
    "rng = np.random.default_rng(seed=207)"
   ]
  },
  {
   "cell_type": "code",
   "execution_count": 11,
   "metadata": {},
   "outputs": [],
   "source": [
    "def initialize_population(bounds, population_size):\n",
    "    bounds = np.array(bounds, dtype=np.float64)  # Convert bounds to a NumPy array\n",
    "    lower_bounds = bounds[:, 0]\n",
    "    upper_bounds = bounds[:, 1]\n",
    "    population = rng.uniform(lower_bounds, upper_bounds, (population_size, len(bounds)))\n",
    "    return population"
   ]
  },
  {
   "cell_type": "code",
   "execution_count": 12,
   "metadata": {},
   "outputs": [],
   "source": [
    "def differential_evolution(\n",
    "    objective_function, parameter_bounds, population_size, n_generations, mutation_factor, p_crossover,\n",
    "    quantities, prices, policy_optimization_period, num_skus, a, b, c\n",
    "):\n",
    "    # Initialize population and current fitnesses\n",
    "    population = initialize_population(parameter_bounds, population_size)\n",
    "    fitness = np.array([\n",
    "        objective_function(ind, quantities, prices, policy_optimization_period, num_skus, a, b, c)\n",
    "        for ind in population\n",
    "    ])\n",
    "\n",
    "    bounds_array = np.array(parameter_bounds)\n",
    "    lower_bounds, upper_bounds = bounds_array[:, 0], bounds_array[:, 1]\n",
    "\n",
    "    for _ in range(n_generations):\n",
    "        # Mutation and crossover in a vectorized manner\n",
    "        indices = np.arange(population_size)\n",
    "        a_indices = rng.choice(indices, size=population_size, replace=True)\n",
    "        b_indices = rng.choice(indices, size=population_size, replace=True)\n",
    "        c_indices = rng.choice(indices, size=population_size, replace=True)\n",
    "\n",
    "        # Ensure indices are not equal to the current individual\n",
    "        valid = a_indices != indices\n",
    "        a_indices[~valid] = (a_indices[~valid] + 1) % population_size\n",
    "\n",
    "        # Calculate mutants\n",
    "        a1, b1, c1 = population[a_indices], population[b_indices], population[c_indices]\n",
    "        mutants = a1 + mutation_factor * (b1 - c1)\n",
    "        mutants = np.clip(mutants, lower_bounds, upper_bounds)\n",
    "\n",
    "        # Ensure reorder amounts and frequencies are integers\n",
    "        mutants = np.round(mutants)\n",
    "\n",
    "        # Perform crossover\n",
    "        crossover_mask = rng.random((population_size, len(parameter_bounds))) < p_crossover\n",
    "        trial_population = np.where(crossover_mask, mutants, population)\n",
    "        # Evaluate the new population\n",
    "        trial_fitness = np.array([\n",
    "            objective_function(ind, quantities, prices, policy_optimization_period, num_skus, a, b, c)\n",
    "            for ind in trial_population\n",
    "        ])\n",
    "\n",
    "        # Update population and fitness using a loop\n",
    "        for i in range(population_size):\n",
    "            if trial_fitness[i] < fitness[i]:\n",
    "                population[i] = trial_population[i]\n",
    "                fitness[i] = trial_fitness[i]\n",
    "\n",
    "    best_index = np.argmin(fitness)  # Minimize the objective\n",
    "    return population[best_index], fitness[best_index]\n"
   ]
  },
  {
   "cell_type": "code",
   "execution_count": 13,
   "metadata": {},
   "outputs": [],
   "source": [
    "def f(individual, quantities, prices, policy_optimization_period, num_skus, a, b, c):\n",
    "    # Extract reorder quantities and frequencies from the individual\n",
    "    reorder_quantities = np.array(individual[0::2], dtype=int)\n",
    "    reorder_frequencies = np.array(individual[1::2], dtype=int)\n",
    "\n",
    "    # Initialize SKU quantities and costs\n",
    "    sku_quantities = np.zeros((policy_optimization_period, num_skus), dtype=np.float64)\n",
    "    missed_sales = np.zeros(num_skus, dtype=np.float64)\n",
    "    inventory = np.zeros(policy_optimization_period, dtype=np.float64)\n",
    "    reorder_cost = np.zeros(num_skus, dtype=np.float64)\n",
    "\n",
    "    # Create a matrix of time steps\n",
    "    time_steps = np.arange(1, policy_optimization_period + 1).reshape(-1, 1)\n",
    "\n",
    "    # If any frequency becomes negative, don't ever restock\n",
    "    # Otherwise calculate when each restock happens\n",
    "    adjusted_frequencies = np.where(reorder_frequencies > 0, reorder_frequencies, np.inf)\n",
    "    restock_mask = (time_steps % adjusted_frequencies) == 0\n",
    "    restock_mask = np.where(adjusted_frequencies == np.inf, False, restock_mask)\n",
    "\n",
    "    # Calculate reorder amounts\n",
    "    reorder_amounts = restock_mask * reorder_quantities\n",
    "    sku_quantities += np.cumsum(reorder_amounts, axis=0)\n",
    "\n",
    "    # Subtract demand week by week\n",
    "    demand_matrix = quantities.T\n",
    "    sku_quantities -= demand_matrix\n",
    "\n",
    "    # Calculate missed sales where stock is negative\n",
    "    missed_stock = np.minimum(sku_quantities, 0)\n",
    "    missed_sales += np.sum(-missed_stock * prices, axis=0)\n",
    "    sku_quantities = np.maximum(sku_quantities, 0)\n",
    "\n",
    "    # Calculate reorder costs\n",
    "    reorder_cost += np.sum(restock_mask, axis=0)\n",
    "    # Calculate inventory cost as total stock across all weeks\n",
    "    inventory += np.sum(sku_quantities, axis=1)\n",
    "\n",
    "    # Readjust weights and calculate the total cost\n",
    "    total_cost = (a * np.sum(missed_sales, dtype=np.float64)) + (b * np.sum(inventory, dtype=np.float64)) + (c  * np.sum(reorder_cost, dtype=np.float64))\n",
    "    return total_cost"
   ]
  },
  {
   "cell_type": "markdown",
   "metadata": {},
   "source": [
    "## Hyperparameter Search Logic"
   ]
  },
  {
   "cell_type": "markdown",
   "metadata": {},
   "source": [
    "### User Inputs: ONLY change things here!"
   ]
  },
  {
   "cell_type": "code",
   "execution_count": 14,
   "metadata": {},
   "outputs": [],
   "source": [
    "# Policy optimization period period- how far in advance we want to forecast the skus\n",
    "policy_optimization_period = 5\n",
    "# Weights for missed sales, inventory space, and reorder cost\n",
    "missed_sales_importance = 1\n",
    "inventory_space_importance = 1\n",
    "reorder_cost_importance = 1\n",
    "# User will input this- it's equivalent to giving a time budget for the algorithm\n",
    "n_generations = 10000"
   ]
  },
  {
   "cell_type": "markdown",
   "metadata": {},
   "source": [
    "### Calculation of all relevant differential evolution inputs from the user inputs"
   ]
  },
  {
   "cell_type": "code",
   "execution_count": 15,
   "metadata": {},
   "outputs": [
    {
     "name": "stderr",
     "output_type": "stream",
     "text": [
      "/var/folders/hh/rn_fsj015zz6cmlmssx4w0y00000gn/T/ipykernel_52262/788442118.py:32: FutureWarning: Series.ravel is deprecated. The underlying array is already 1D, so ravel is not necessary.  Use `to_numpy()` for conversion to a numpy array instead.\n",
      "  prices = prices.ravel()\n"
     ]
    }
   ],
   "source": [
    "### Parameter bound information\n",
    "\n",
    "# Num skus based on the forecasted_info dataset\n",
    "num_skus = len(forecasted_info[\"Pcode\"].unique())\n",
    "# Max order frequency is up to the length of the policy_optimization_period\n",
    "max_order_frequency = policy_optimization_period\n",
    "# Upper and lower bounds for both frequency and reorder quantity\n",
    "parameter_bounds = np.zeros((2*num_skus, 2))\n",
    "# Get unique SKUs the indices that they map back to\n",
    "unique_skus, inverse_indices = np.unique(forecasted_info[\"Pcode\"], return_inverse=True)\n",
    "# Create an array for max quantities for each SKU\n",
    "max_quantities = np.zeros(len(unique_skus))\n",
    "np.maximum.at(max_quantities, inverse_indices, forecasted_info[\"Quantity Sold\"].to_numpy())\n",
    "# Set the upper bounds\n",
    "parameter_bounds[0::2, 1] = max_quantities  # Max quantity sold\n",
    "parameter_bounds[1::2, 1] = max_order_frequency  # Max order frequency\n",
    "\n",
    "\n",
    "### Objective function information\n",
    "\n",
    "# Calculate the forecast weeks based on the policy optimization period\n",
    "weeks = np.sort(forecasted_info[\"Week\"].unique())\n",
    "forecast_weeks = weeks[-policy_optimization_period:]\n",
    "\n",
    "# Should convert it into the following form:\n",
    "skus = forecasted_info[\"Pcode\"].unique()\n",
    "\n",
    "# Get only the forecast weeks\n",
    "forecast_data = forecasted_info[forecasted_info[\"Week\"].isin(forecast_weeks)]\n",
    "# Calculate prices\n",
    "prices = forecasted_info.drop_duplicates(subset=\"Pcode\", keep=\"first\").set_index(\"Pcode\")[\"Price\"].map(lambda x: float(x[1:]))\n",
    "prices = prices.ravel()\n",
    "# Calculate quantities (null values are 0 if exist)\n",
    "quantities_df = forecast_data.pivot(index=\"Pcode\", columns=\"Week\", values=\"Quantity Sold\")\n",
    "quantities = quantities_df.reindex(skus).fillna(0).to_numpy()"
   ]
  },
  {
   "cell_type": "markdown",
   "metadata": {},
   "source": [
    "Use optuna for hyperparameter search"
   ]
  },
  {
   "cell_type": "code",
   "execution_count": 16,
   "metadata": {},
   "outputs": [
    {
     "name": "stderr",
     "output_type": "stream",
     "text": [
      "[I 2024-12-01 17:44:35,254] A new study created in memory with name: no-name-9fbb3280-dc2b-4f90-9a5d-249bd4130ae7\n",
      "[I 2024-12-01 17:44:35,985] Trial 0 finished with value: 10500929.329030972 and parameters: {'population_size': 31, 'mutation_factor': 0.7412609405536915, 'p_crossover': 0.2839639223297396}. Best is trial 0 with value: 10500929.329030972.\n",
      "[I 2024-12-01 17:44:36,328] Trial 1 finished with value: 8708460.248052293 and parameters: {'population_size': 16, 'mutation_factor': 0.5505322691306598, 'p_crossover': 0.7447270306922562}. Best is trial 1 with value: 8708460.248052293.\n",
      "[I 2024-12-01 17:44:37,248] Trial 2 finished with value: 16860030.89689436 and parameters: {'population_size': 37, 'mutation_factor': 1.83229588416793, 'p_crossover': 0.7987061855703864}. Best is trial 1 with value: 8708460.248052293.\n",
      "[I 2024-12-01 17:44:38,110] Trial 3 finished with value: 16966137.616594635 and parameters: {'population_size': 36, 'mutation_factor': 1.1962001142723828, 'p_crossover': 0.4006974350929863}. Best is trial 1 with value: 8708460.248052293.\n",
      "[I 2024-12-01 17:44:38,720] Trial 4 finished with value: 16679136.030599834 and parameters: {'population_size': 27, 'mutation_factor': 1.9712354010442985, 'p_crossover': 0.8320904581336234}. Best is trial 1 with value: 8708460.248052293.\n",
      "[I 2024-12-01 17:44:39,178] Trial 5 finished with value: 11236599.112279216 and parameters: {'population_size': 20, 'mutation_factor': 0.6134532662726463, 'p_crossover': 0.14318991161781733}. Best is trial 1 with value: 8708460.248052293.\n",
      "[I 2024-12-01 17:44:39,720] Trial 6 finished with value: 6987079.0448703375 and parameters: {'population_size': 26, 'mutation_factor': 0.10335134701001515, 'p_crossover': 0.39806323667505805}. Best is trial 6 with value: 6987079.0448703375.\n",
      "[I 2024-12-01 17:44:40,857] Trial 7 finished with value: 13402672.622870404 and parameters: {'population_size': 46, 'mutation_factor': 0.8458370984184432, 'p_crossover': 0.25226955805926227}. Best is trial 6 with value: 6987079.0448703375.\n",
      "[I 2024-12-01 17:44:41,246] Trial 8 finished with value: 7335454.357702045 and parameters: {'population_size': 17, 'mutation_factor': 0.2597821900648063, 'p_crossover': 0.3524970477377311}. Best is trial 6 with value: 6987079.0448703375.\n",
      "[I 2024-12-01 17:44:41,957] Trial 9 finished with value: 8676428.807716051 and parameters: {'population_size': 31, 'mutation_factor': 0.5672513987074502, 'p_crossover': 0.7780330856295521}. Best is trial 6 with value: 6987079.0448703375.\n",
      "[I 2024-12-01 17:44:42,195] Trial 10 finished with value: 16474080.661492368 and parameters: {'population_size': 10, 'mutation_factor': 1.2957388486296955, 'p_crossover': 0.5848363109734369}. Best is trial 6 with value: 6987079.0448703375.\n",
      "[I 2024-12-01 17:44:42,596] Trial 11 finished with value: 9449698.876169873 and parameters: {'population_size': 20, 'mutation_factor': 0.12422716936077283, 'p_crossover': 0.504623383173173}. Best is trial 6 with value: 6987079.0448703375.\n",
      "[I 2024-12-01 17:44:43,086] Trial 12 finished with value: 7454312.631284868 and parameters: {'population_size': 21, 'mutation_factor': 0.12841792188576154, 'p_crossover': 0.38526844435958024}. Best is trial 6 with value: 6987079.0448703375.\n",
      "[I 2024-12-01 17:44:43,287] Trial 13 finished with value: 9928246.734322678 and parameters: {'population_size': 10, 'mutation_factor': 0.31429660950398663, 'p_crossover': 0.5939801065326269}. Best is trial 6 with value: 6987079.0448703375.\n",
      "[I 2024-12-01 17:44:43,855] Trial 14 finished with value: 7094381.409549748 and parameters: {'population_size': 25, 'mutation_factor': 0.35533192844092787, 'p_crossover': 0.3949814480333386}. Best is trial 6 with value: 6987079.0448703375.\n",
      "[I 2024-12-01 17:44:44,501] Trial 15 finished with value: 16465559.363096524 and parameters: {'population_size': 27, 'mutation_factor': 1.54347678386823, 'p_crossover': 0.49305725569275516}. Best is trial 6 with value: 6987079.0448703375.\n",
      "[I 2024-12-01 17:44:45,483] Trial 16 finished with value: 10527175.406195475 and parameters: {'population_size': 41, 'mutation_factor': 0.36605415197049, 'p_crossover': 0.1333522790574978}. Best is trial 6 with value: 6987079.0448703375.\n",
      "[I 2024-12-01 17:44:46,097] Trial 17 finished with value: 13182066.727184698 and parameters: {'population_size': 25, 'mutation_factor': 0.9262963534557184, 'p_crossover': 0.6484598933730674}. Best is trial 6 with value: 6987079.0448703375.\n",
      "[I 2024-12-01 17:44:46,953] Trial 18 finished with value: 7583067.761076857 and parameters: {'population_size': 36, 'mutation_factor': 0.43550510630642736, 'p_crossover': 0.459036404030757}. Best is trial 6 with value: 6987079.0448703375.\n",
      "[I 2024-12-01 17:44:48,261] Trial 19 finished with value: 17378382.894523375 and parameters: {'population_size': 50, 'mutation_factor': 1.1041135346059525, 'p_crossover': 0.24095648517854684}. Best is trial 6 with value: 6987079.0448703375.\n",
      "[I 2024-12-01 17:44:49,114] Trial 20 finished with value: 16640291.28225674 and parameters: {'population_size': 32, 'mutation_factor': 1.4714080544311927, 'p_crossover': 0.3070767215331299}. Best is trial 6 with value: 6987079.0448703375.\n",
      "[I 2024-12-01 17:44:49,510] Trial 21 finished with value: 8065734.262374977 and parameters: {'population_size': 15, 'mutation_factor': 0.22613622547554962, 'p_crossover': 0.3632999044448029}. Best is trial 6 with value: 6987079.0448703375.\n",
      "[I 2024-12-01 17:44:50,095] Trial 22 finished with value: 6908431.31196441 and parameters: {'population_size': 24, 'mutation_factor': 0.405375918823408, 'p_crossover': 0.433510820215258}. Best is trial 22 with value: 6908431.31196441.\n",
      "[I 2024-12-01 17:44:50,674] Trial 23 finished with value: 7258198.631718575 and parameters: {'population_size': 24, 'mutation_factor': 0.47672569480470534, 'p_crossover': 0.44673846512621584}. Best is trial 22 with value: 6908431.31196441.\n",
      "[I 2024-12-01 17:44:51,256] Trial 24 finished with value: 9795954.481091015 and parameters: {'population_size': 23, 'mutation_factor': 0.7513871296223541, 'p_crossover': 0.5476963976972931}. Best is trial 22 with value: 6908431.31196441.\n",
      "[I 2024-12-01 17:44:51,805] Trial 25 finished with value: 9801853.792631455 and parameters: {'population_size': 27, 'mutation_factor': 0.10074330098049061, 'p_crossover': 0.6683785613164264}. Best is trial 22 with value: 6908431.31196441.\n",
      "[I 2024-12-01 17:44:52,503] Trial 26 finished with value: 9050757.295561444 and parameters: {'population_size': 29, 'mutation_factor': 0.35605046409257324, 'p_crossover': 0.2028406300474595}. Best is trial 22 with value: 6908431.31196441.\n",
      "[I 2024-12-01 17:44:53,370] Trial 27 finished with value: 9876522.498560295 and parameters: {'population_size': 34, 'mutation_factor': 0.676549925059761, 'p_crossover': 0.4255552447851115}. Best is trial 22 with value: 6908431.31196441.\n",
      "[I 2024-12-01 17:44:53,804] Trial 28 finished with value: 14364423.1739438 and parameters: {'population_size': 18, 'mutation_factor': 0.9442610642871915, 'p_crossover': 0.33560416976252117}. Best is trial 22 with value: 6908431.31196441.\n",
      "[I 2024-12-01 17:44:54,120] Trial 29 finished with value: 10378583.777827594 and parameters: {'population_size': 13, 'mutation_factor': 0.7506681125790553, 'p_crossover': 0.2914959247464617}. Best is trial 22 with value: 6908431.31196441.\n",
      "[I 2024-12-01 17:44:54,579] Trial 30 finished with value: 7435555.697581991 and parameters: {'population_size': 22, 'mutation_factor': 0.23132867850501215, 'p_crossover': 0.5013303770161485}. Best is trial 22 with value: 6908431.31196441.\n",
      "[I 2024-12-01 17:44:55,148] Trial 31 finished with value: 7556290.002294751 and parameters: {'population_size': 25, 'mutation_factor': 0.4681159236091943, 'p_crossover': 0.4286299614492229}. Best is trial 22 with value: 6908431.31196441.\n",
      "[I 2024-12-01 17:44:55,702] Trial 32 finished with value: 7310357.3164679445 and parameters: {'population_size': 24, 'mutation_factor': 0.4487723546828985, 'p_crossover': 0.45345350181283234}. Best is trial 22 with value: 6908431.31196441.\n",
      "[I 2024-12-01 17:44:56,285] Trial 33 finished with value: 8298092.658213295 and parameters: {'population_size': 30, 'mutation_factor': 0.42426042869515046, 'p_crossover': 0.8903377504962681}. Best is trial 22 with value: 6908431.31196441.\n",
      "[I 2024-12-01 17:44:56,920] Trial 34 finished with value: 9177656.098668095 and parameters: {'population_size': 28, 'mutation_factor': 0.5333994492202591, 'p_crossover': 0.39358302993203165}. Best is trial 22 with value: 6908431.31196441.\n",
      "[I 2024-12-01 17:44:57,650] Trial 35 finished with value: 6646612.939487172 and parameters: {'population_size': 33, 'mutation_factor': 0.29198613558937864, 'p_crossover': 0.5437693726240512}. Best is trial 35 with value: 6646612.939487172.\n",
      "[I 2024-12-01 17:44:58,368] Trial 36 finished with value: 6855831.8088420015 and parameters: {'population_size': 34, 'mutation_factor': 0.20583752026447177, 'p_crossover': 0.5529204088331057}. Best is trial 35 with value: 6646612.939487172.\n",
      "[I 2024-12-01 17:44:59,211] Trial 37 finished with value: 7197277.320213046 and parameters: {'population_size': 40, 'mutation_factor': 0.2503721735319182, 'p_crossover': 0.6921726115984217}. Best is trial 35 with value: 6646612.939487172.\n",
      "[I 2024-12-01 17:45:00,017] Trial 38 finished with value: 7078056.055658617 and parameters: {'population_size': 39, 'mutation_factor': 0.1971827294749835, 'p_crossover': 0.615371000165164}. Best is trial 35 with value: 6646612.939487172.\n",
      "[I 2024-12-01 17:45:00,766] Trial 39 finished with value: 9065898.785024887 and parameters: {'population_size': 33, 'mutation_factor': 0.633622240822566, 'p_crossover': 0.5666336455849876}. Best is trial 35 with value: 6646612.939487172.\n",
      "[I 2024-12-01 17:45:01,473] Trial 40 finished with value: 6185633.107325274 and parameters: {'population_size': 35, 'mutation_factor': 0.15930531671397372, 'p_crossover': 0.5293805261450483}. Best is trial 40 with value: 6185633.107325274.\n",
      "[I 2024-12-01 17:45:02,206] Trial 41 finished with value: 6587861.022120133 and parameters: {'population_size': 35, 'mutation_factor': 0.1992716580184104, 'p_crossover': 0.5333335727259446}. Best is trial 40 with value: 6185633.107325274.\n",
      "[I 2024-12-01 17:45:03,075] Trial 42 finished with value: 7004724.912923107 and parameters: {'population_size': 38, 'mutation_factor': 0.2981018366425928, 'p_crossover': 0.531712732624761}. Best is trial 40 with value: 6185633.107325274.\n",
      "[I 2024-12-01 17:45:03,908] Trial 43 finished with value: 5900169.577080873 and parameters: {'population_size': 36, 'mutation_factor': 0.1817066685137966, 'p_crossover': 0.5311506608255884}. Best is trial 43 with value: 5900169.577080873.\n",
      "[I 2024-12-01 17:45:04,669] Trial 44 finished with value: 8587241.841948375 and parameters: {'population_size': 35, 'mutation_factor': 0.16728478814393888, 'p_crossover': 0.7108217821971441}. Best is trial 43 with value: 5900169.577080873.\n",
      "[I 2024-12-01 17:45:05,595] Trial 45 finished with value: 6904811.975444106 and parameters: {'population_size': 41, 'mutation_factor': 0.2805100119521059, 'p_crossover': 0.6334223328648342}. Best is trial 43 with value: 5900169.577080873.\n",
      "[I 2024-12-01 17:45:06,428] Trial 46 finished with value: 5679900.244552423 and parameters: {'population_size': 37, 'mutation_factor': 0.19427929170901528, 'p_crossover': 0.5311828702110631}. Best is trial 46 with value: 5679900.244552423.\n",
      "[I 2024-12-01 17:45:07,500] Trial 47 finished with value: 9625673.349645015 and parameters: {'population_size': 44, 'mutation_factor': 0.574704171668176, 'p_crossover': 0.49249463073041433}. Best is trial 46 with value: 5679900.244552423.\n",
      "[I 2024-12-01 17:45:08,303] Trial 48 finished with value: 6008613.906753147 and parameters: {'population_size': 37, 'mutation_factor': 0.15503420807639307, 'p_crossover': 0.5167085562242366}. Best is trial 46 with value: 5679900.244552423.\n",
      "[I 2024-12-01 17:45:09,185] Trial 49 finished with value: 6628377.451159384 and parameters: {'population_size': 43, 'mutation_factor': 0.11139119193121746, 'p_crossover': 0.5911269951797837}. Best is trial 46 with value: 5679900.244552423.\n",
      "[I 2024-12-01 17:45:10,057] Trial 50 finished with value: 16872789.738213774 and parameters: {'population_size': 37, 'mutation_factor': 1.8256953034397334, 'p_crossover': 0.486121087400886}. Best is trial 46 with value: 5679900.244552423.\n",
      "[I 2024-12-01 17:45:10,974] Trial 51 finished with value: 6681027.0078367805 and parameters: {'population_size': 43, 'mutation_factor': 0.10998421102470607, 'p_crossover': 0.6041902061100735}. Best is trial 46 with value: 5679900.244552423.\n",
      "[I 2024-12-01 17:45:11,983] Trial 52 finished with value: 5573547.178891912 and parameters: {'population_size': 46, 'mutation_factor': 0.17674944608948295, 'p_crossover': 0.5754798221184522}. Best is trial 52 with value: 5573547.178891912.\n",
      "[I 2024-12-01 17:45:13,075] Trial 53 finished with value: 5849634.0441874005 and parameters: {'population_size': 48, 'mutation_factor': 0.18029691506733314, 'p_crossover': 0.5773070242397254}. Best is trial 52 with value: 5573547.178891912.\n",
      "[I 2024-12-01 17:45:14,158] Trial 54 finished with value: 6664388.550127668 and parameters: {'population_size': 48, 'mutation_factor': 0.34232343244239716, 'p_crossover': 0.57758615405493}. Best is trial 52 with value: 5573547.178891912.\n",
      "[I 2024-12-01 17:45:15,162] Trial 55 finished with value: 6923627.637934443 and parameters: {'population_size': 47, 'mutation_factor': 0.16931405471600247, 'p_crossover': 0.750314579832962}. Best is trial 52 with value: 5573547.178891912.\n",
      "[I 2024-12-01 17:45:16,292] Trial 56 finished with value: 6644688.939957063 and parameters: {'population_size': 50, 'mutation_factor': 0.27959125186067313, 'p_crossover': 0.6396539000561055}. Best is trial 52 with value: 5573547.178891912.\n",
      "[I 2024-12-01 17:45:17,340] Trial 57 finished with value: 9669074.605883054 and parameters: {'population_size': 45, 'mutation_factor': 0.51870301277876, 'p_crossover': 0.5267491539686098}. Best is trial 52 with value: 5573547.178891912.\n",
      "[I 2024-12-01 17:45:18,442] Trial 58 finished with value: 6847976.337522918 and parameters: {'population_size': 48, 'mutation_factor': 0.3847663215333219, 'p_crossover': 0.618718725064203}. Best is trial 52 with value: 5573547.178891912.\n",
      "[I 2024-12-01 17:45:19,327] Trial 59 finished with value: 6592950.914936915 and parameters: {'population_size': 42, 'mutation_factor': 0.17023619948073246, 'p_crossover': 0.6761775646556634}. Best is trial 52 with value: 5573547.178891912.\n",
      "[I 2024-12-01 17:45:20,202] Trial 60 finished with value: 7470606.907642404 and parameters: {'population_size': 38, 'mutation_factor': 0.3467919304098912, 'p_crossover': 0.46848790752716596}. Best is trial 52 with value: 5573547.178891912.\n",
      "[I 2024-12-01 17:45:20,848] Trial 61 finished with value: 6574594.977663575 and parameters: {'population_size': 31, 'mutation_factor': 0.2363429098448036, 'p_crossover': 0.5233995748965302}. Best is trial 52 with value: 5573547.178891912.\n",
      "[I 2024-12-01 17:45:21,511] Trial 62 finished with value: 6683906.335402027 and parameters: {'population_size': 31, 'mutation_factor': 0.24441240329319264, 'p_crossover': 0.5137569763698706}. Best is trial 52 with value: 5573547.178891912.\n",
      "[I 2024-12-01 17:45:22,284] Trial 63 finished with value: 6595273.402909078 and parameters: {'population_size': 36, 'mutation_factor': 0.145093959870082, 'p_crossover': 0.5663116088396436}. Best is trial 52 with value: 5573547.178891912.\n",
      "[I 2024-12-01 17:45:23,090] Trial 64 finished with value: 15803922.57238229 and parameters: {'population_size': 32, 'mutation_factor': 1.2955805896979868, 'p_crossover': 0.5145458065542398}. Best is trial 52 with value: 5573547.178891912.\n",
      "[I 2024-12-01 17:45:24,169] Trial 65 finished with value: 6295834.52079284 and parameters: {'population_size': 46, 'mutation_factor': 0.3245748828196314, 'p_crossover': 0.5827967517692173}. Best is trial 52 with value: 5573547.178891912.\n",
      "[I 2024-12-01 17:45:25,253] Trial 66 finished with value: 6490610.38161265 and parameters: {'population_size': 47, 'mutation_factor': 0.3319793001181494, 'p_crossover': 0.5854732933017807}. Best is trial 52 with value: 5573547.178891912.\n",
      "[I 2024-12-01 17:45:26,258] Trial 67 finished with value: 5602459.850460801 and parameters: {'population_size': 45, 'mutation_factor': 0.10369674536070247, 'p_crossover': 0.473270351283226}. Best is trial 52 with value: 5573547.178891912.\n",
      "[I 2024-12-01 17:45:27,162] Trial 68 finished with value: 5749448.329625826 and parameters: {'population_size': 40, 'mutation_factor': 0.10115599989793107, 'p_crossover': 0.4687740634894677}. Best is trial 52 with value: 5573547.178891912.\n",
      "[I 2024-12-01 17:45:28,086] Trial 69 finished with value: 5752766.775680242 and parameters: {'population_size': 40, 'mutation_factor': 0.11794095523716457, 'p_crossover': 0.4683998061596297}. Best is trial 52 with value: 5573547.178891912.\n",
      "[I 2024-12-01 17:45:29,123] Trial 70 finished with value: 5023888.354544003 and parameters: {'population_size': 45, 'mutation_factor': 0.11867096787711262, 'p_crossover': 0.4106945226548881}. Best is trial 70 with value: 5023888.354544003.\n",
      "[I 2024-12-01 17:45:30,170] Trial 71 finished with value: 5080266.023472965 and parameters: {'population_size': 45, 'mutation_factor': 0.10265905848731566, 'p_crossover': 0.36006678251435487}. Best is trial 70 with value: 5023888.354544003.\n",
      "[I 2024-12-01 17:45:31,228] Trial 72 finished with value: 4971655.411420257 and parameters: {'population_size': 45, 'mutation_factor': 0.127975804390579, 'p_crossover': 0.34698857996708926}. Best is trial 72 with value: 4971655.411420257.\n",
      "[I 2024-12-01 17:45:32,284] Trial 73 finished with value: 4959827.612728421 and parameters: {'population_size': 45, 'mutation_factor': 0.12521164392858808, 'p_crossover': 0.369690088960274}. Best is trial 73 with value: 4959827.612728421.\n",
      "[I 2024-12-01 17:45:33,342] Trial 74 finished with value: 4926508.237852957 and parameters: {'population_size': 45, 'mutation_factor': 0.10167687677123692, 'p_crossover': 0.3591830657848027}. Best is trial 74 with value: 4926508.237852957.\n",
      "[I 2024-12-01 17:45:34,430] Trial 75 finished with value: 8126965.424601408 and parameters: {'population_size': 45, 'mutation_factor': 0.2609120303963677, 'p_crossover': 0.3272544840160323}. Best is trial 74 with value: 4926508.237852957.\n",
      "[I 2024-12-01 17:45:35,501] Trial 76 finished with value: 6701799.948031958 and parameters: {'population_size': 44, 'mutation_factor': 0.22639646301423044, 'p_crossover': 0.2641857215485683}. Best is trial 74 with value: 4926508.237852957.\n",
      "[I 2024-12-01 17:45:36,754] Trial 77 finished with value: 17076693.577994235 and parameters: {'population_size': 50, 'mutation_factor': 1.0777137680948943, 'p_crossover': 0.36928769065121925}. Best is trial 74 with value: 4926508.237852957.\n",
      "[I 2024-12-01 17:45:37,930] Trial 78 finished with value: 16920710.343945485 and parameters: {'population_size': 46, 'mutation_factor': 1.6325725175753094, 'p_crossover': 0.3514693510159313}. Best is trial 74 with value: 4926508.237852957.\n",
      "[I 2024-12-01 17:45:38,939] Trial 79 finished with value: 7696047.534859661 and parameters: {'population_size': 42, 'mutation_factor': 0.38091041814639426, 'p_crossover': 0.4129355310690382}. Best is trial 74 with value: 4926508.237852957.\n",
      "[I 2024-12-01 17:45:40,163] Trial 80 finished with value: 7223863.322053522 and parameters: {'population_size': 49, 'mutation_factor': 0.22707738171732447, 'p_crossover': 0.20678493461320702}. Best is trial 74 with value: 4926508.237852957.\n",
      "[I 2024-12-01 17:45:41,205] Trial 81 finished with value: 4867376.8480548635 and parameters: {'population_size': 44, 'mutation_factor': 0.10292627296472082, 'p_crossover': 0.30812831637532967}. Best is trial 81 with value: 4867376.8480548635.\n",
      "[I 2024-12-01 17:45:42,274] Trial 82 finished with value: 5190410.2312111575 and parameters: {'population_size': 45, 'mutation_factor': 0.10009472081578075, 'p_crossover': 0.30305218654430816}. Best is trial 81 with value: 4867376.8480548635.\n",
      "[I 2024-12-01 17:45:43,328] Trial 83 finished with value: 4912288.27766129 and parameters: {'population_size': 45, 'mutation_factor': 0.10867535043633166, 'p_crossover': 0.31222409399564505}. Best is trial 81 with value: 4867376.8480548635.\n",
      "[I 2024-12-01 17:45:44,399] Trial 84 finished with value: 5128589.608031185 and parameters: {'population_size': 44, 'mutation_factor': 0.14348453259976726, 'p_crossover': 0.3081418577264021}. Best is trial 81 with value: 4867376.8480548635.\n",
      "[I 2024-12-01 17:45:45,484] Trial 85 finished with value: 8328830.67208549 and parameters: {'population_size': 44, 'mutation_factor': 0.2904429952334401, 'p_crossover': 0.31364911339642454}. Best is trial 81 with value: 4867376.8480548635.\n",
      "[I 2024-12-01 17:45:46,488] Trial 86 finished with value: 5119506.71017492 and parameters: {'population_size': 42, 'mutation_factor': 0.14188752891114256, 'p_crossover': 0.2782428163344892}. Best is trial 81 with value: 4867376.8480548635.\n",
      "[I 2024-12-01 17:45:47,493] Trial 87 finished with value: 5561520.377328667 and parameters: {'population_size': 42, 'mutation_factor': 0.14227653634783272, 'p_crossover': 0.26842410716416276}. Best is trial 81 with value: 4867376.8480548635.\n",
      "[I 2024-12-01 17:45:48,525] Trial 88 finished with value: 7384691.835949405 and parameters: {'population_size': 43, 'mutation_factor': 0.21626933412525293, 'p_crossover': 0.2325939658574369}. Best is trial 81 with value: 4867376.8480548635.\n",
      "[I 2024-12-01 17:45:49,671] Trial 89 finished with value: 16220437.769828815 and parameters: {'population_size': 47, 'mutation_factor': 0.9950949992088672, 'p_crossover': 0.384096959891641}. Best is trial 81 with value: 4867376.8480548635.\n",
      "[I 2024-12-01 17:45:50,853] Trial 90 finished with value: 8193332.63150669 and parameters: {'population_size': 49, 'mutation_factor': 0.261576030091638, 'p_crossover': 0.34026785545211036}. Best is trial 81 with value: 4867376.8480548635.\n",
      "[I 2024-12-01 17:45:51,900] Trial 91 finished with value: 5238022.174574636 and parameters: {'population_size': 44, 'mutation_factor': 0.13888115536384704, 'p_crossover': 0.29477545127747085}. Best is trial 81 with value: 4867376.8480548635.\n",
      "[I 2024-12-01 17:45:52,844] Trial 92 finished with value: 5090094.872950532 and parameters: {'population_size': 41, 'mutation_factor': 0.10162385033618461, 'p_crossover': 0.3109715793044309}. Best is trial 81 with value: 4867376.8480548635.\n",
      "[I 2024-12-01 17:45:53,836] Trial 93 finished with value: 5989603.743244715 and parameters: {'population_size': 41, 'mutation_factor': 0.20106516904896443, 'p_crossover': 0.3734828403769879}. Best is trial 81 with value: 4867376.8480548635.\n",
      "[I 2024-12-01 17:45:54,847] Trial 94 finished with value: 5242756.60851379 and parameters: {'population_size': 43, 'mutation_factor': 0.14600983223968328, 'p_crossover': 0.31992955090603126}. Best is trial 81 with value: 4867376.8480548635.\n",
      "[I 2024-12-01 17:45:55,996] Trial 95 finished with value: 8587479.245042572 and parameters: {'population_size': 46, 'mutation_factor': 0.29896618815546727, 'p_crossover': 0.2800684669141515}. Best is trial 81 with value: 4867376.8480548635.\n",
      "[I 2024-12-01 17:45:56,993] Trial 96 finished with value: 5726334.382909479 and parameters: {'population_size': 42, 'mutation_factor': 0.1480268151504162, 'p_crossover': 0.23769219077369633}. Best is trial 81 with value: 4867376.8480548635.\n",
      "[I 2024-12-01 17:45:58,053] Trial 97 finished with value: 7531635.739723463 and parameters: {'population_size': 44, 'mutation_factor': 0.20052911714924582, 'p_crossover': 0.1712786032778646}. Best is trial 81 with value: 4867376.8480548635.\n",
      "[I 2024-12-01 17:45:59,236] Trial 98 finished with value: 7818425.787750622 and parameters: {'population_size': 47, 'mutation_factor': 0.2594238456128665, 'p_crossover': 0.3504403585332616}. Best is trial 81 with value: 4867376.8480548635.\n",
      "[I 2024-12-01 17:46:00,347] Trial 99 finished with value: 12383093.971684908 and parameters: {'population_size': 41, 'mutation_factor': 0.8667164567460967, 'p_crossover': 0.41400383494603726}. Best is trial 81 with value: 4867376.8480548635.\n"
     ]
    },
    {
     "name": "stdout",
     "output_type": "stream",
     "text": [
      "Best Hyperparameters: {'population_size': 44, 'mutation_factor': 0.10292627296472082, 'p_crossover': 0.30812831637532967}\n",
      "Best Score: 4867376.8480548635\n"
     ]
    }
   ],
   "source": [
    "import optuna\n",
    "\n",
    "# Define the objective function for Optuna\n",
    "def hyperparamter_search_objective(trial):\n",
    "    population_size = trial.suggest_int('population_size', 10, 50)\n",
    "    mutation_factor = trial.suggest_float('mutation_factor', 0.1, 2.0)\n",
    "    p_crossover = trial.suggest_float('p_crossover', 0.1, 0.9)\n",
    "    \n",
    "    # Call your differential evolution function with the suggested hyperparameters\n",
    "    _, score = differential_evolution(\n",
    "        objective_function=f,\n",
    "        parameter_bounds=parameter_bounds,\n",
    "        population_size=int(population_size),\n",
    "        n_generations=200,\n",
    "        mutation_factor=mutation_factor,\n",
    "        p_crossover=p_crossover,\n",
    "        quantities=quantities,\n",
    "        prices=prices,\n",
    "        policy_optimization_period=policy_optimization_period,\n",
    "        num_skus=num_skus,\n",
    "        a=missed_sales_importance,\n",
    "        b=inventory_space_importance,\n",
    "        c=reorder_cost_importance\n",
    "    )\n",
    "    return score  # The goal is to minimize this score\n",
    "\n",
    "# Create an Optuna study\n",
    "study = optuna.create_study(direction='minimize') \n",
    "\n",
    "# Optimize the objective function\n",
    "n_trials = 100\n",
    "study.optimize(hyperparamter_search_objective, n_trials=n_trials) \n",
    "\n",
    "# Extract best hyperparameters and score\n",
    "best_hyperparameters = study.best_params\n",
    "best_score = study.best_value\n",
    "\n",
    "print(\"Best Hyperparameters:\", best_hyperparameters)\n",
    "print(\"Best Score:\", best_score)"
   ]
  },
  {
   "cell_type": "markdown",
   "metadata": {},
   "source": [
    "## Calculate parameters based on the hyperparameter search"
   ]
  },
  {
   "cell_type": "code",
   "execution_count": 17,
   "metadata": {},
   "outputs": [],
   "source": [
    "# Based on hyperparameter search\n",
    "population_size = best_hyperparameters[\"population_size\"]\n",
    "mutation_factor = best_hyperparameters[\"mutation_factor\"]\n",
    "p_crossover = best_hyperparameters[\"p_crossover\"]"
   ]
  },
  {
   "cell_type": "code",
   "execution_count": 18,
   "metadata": {},
   "outputs": [],
   "source": [
    "best_parameters, score = differential_evolution(\n",
    "    f, \n",
    "    parameter_bounds, \n",
    "    population_size, \n",
    "    n_generations, \n",
    "    mutation_factor,\n",
    "    p_crossover, \n",
    "    quantities, \n",
    "    prices, \n",
    "    policy_optimization_period, \n",
    "    num_skus, \n",
    "    missed_sales_importance, \n",
    "    inventory_space_importance, \n",
    "    reorder_cost_importance\n",
    ")"
   ]
  },
  {
   "cell_type": "code",
   "execution_count": 19,
   "metadata": {},
   "outputs": [
    {
     "data": {
      "text/plain": [
       "array([1.29e+02, 1.00e+00, 4.29e+02, ..., 1.00e+00, 1.14e+03, 2.00e+00])"
      ]
     },
     "execution_count": 19,
     "metadata": {},
     "output_type": "execute_result"
    }
   ],
   "source": [
    "best_parameters"
   ]
  },
  {
   "cell_type": "markdown",
   "metadata": {},
   "source": [
    "## Verification of Output"
   ]
  },
  {
   "cell_type": "code",
   "execution_count": 6,
   "metadata": {},
   "outputs": [
    {
     "ename": "NameError",
     "evalue": "name 'best_parameters' is not defined",
     "output_type": "error",
     "traceback": [
      "\u001b[0;31m---------------------------------------------------------------------------\u001b[0m",
      "\u001b[0;31mNameError\u001b[0m                                 Traceback (most recent call last)",
      "Cell \u001b[0;32mIn[6], line 2\u001b[0m\n\u001b[1;32m      1\u001b[0m \u001b[38;5;66;03m# Corrected simulation of fulfilled sales and inventory\u001b[39;00m\n\u001b[0;32m----> 2\u001b[0m reorder_quantities \u001b[38;5;241m=\u001b[39m np\u001b[38;5;241m.\u001b[39marray(\u001b[43mbest_parameters\u001b[49m[\u001b[38;5;241m0\u001b[39m::\u001b[38;5;241m2\u001b[39m], dtype\u001b[38;5;241m=\u001b[39m\u001b[38;5;28mint\u001b[39m)\n\u001b[1;32m      3\u001b[0m reorder_frequencies \u001b[38;5;241m=\u001b[39m np\u001b[38;5;241m.\u001b[39marray(best_parameters[\u001b[38;5;241m1\u001b[39m::\u001b[38;5;241m2\u001b[39m], dtype\u001b[38;5;241m=\u001b[39m\u001b[38;5;28mint\u001b[39m)\n\u001b[1;32m      5\u001b[0m fulfilled_sales \u001b[38;5;241m=\u001b[39m np\u001b[38;5;241m.\u001b[39mzeros_like(quantities)\n",
      "\u001b[0;31mNameError\u001b[0m: name 'best_parameters' is not defined"
     ]
    }
   ],
   "source": [
    "# Corrected simulation of fulfilled sales and inventory\n",
    "reorder_quantities = np.array(best_parameters[0::2], dtype=int)\n",
    "reorder_frequencies = np.array(best_parameters[1::2], dtype=int)\n",
    "\n",
    "fulfilled_sales = np.zeros_like(quantities)\n",
    "inventory_levels = np.zeros((num_skus, policy_optimization_period))\n",
    "\n",
    "for sku in range(num_skus):\n",
    "    inventory = 0  # Initial inventory\n",
    "    for week in range(policy_optimization_period):\n",
    "        # Reorder only if reorder frequency > 0 and it's a reorder week\n",
    "        if reorder_frequencies[sku] > 0 and week % reorder_frequencies[sku] == 0:\n",
    "            inventory += reorder_quantities[sku]\n",
    "\n",
    "        # Fulfill sales based on inventory and demand\n",
    "        fulfilled_sales[sku, week] = min(inventory, quantities[sku, week])\n",
    "        inventory -= fulfilled_sales[sku, week]\n",
    "\n",
    "        # Track inventory levels\n",
    "        inventory_levels[sku, week] = inventory\n",
    "\n",
    "# Correct reorder tracking\n",
    "reorder_weeks = np.zeros((num_skus, policy_optimization_period))\n",
    "for sku in range(num_skus):\n",
    "    if reorder_frequencies[sku] > 0:\n",
    "        reorder_weeks[sku, ::reorder_frequencies[sku]] = reorder_quantities[sku]\n",
    "\n",
    "# Plotting\n",
    "showing_skus = 3\n",
    "fig, axes = plt.subplots(showing_skus, 1, figsize=(10, 4 * showing_skus), sharex=True)\n",
    "\n",
    "for sku, ax in enumerate(axes):\n",
    "    print(sku)\n",
    "    ax.plot(forecast_weeks, quantities[sku], label=\"Actual Sales\", color=\"blue\", linestyle=\"--\")\n",
    "    ax.plot(forecast_weeks, fulfilled_sales[sku], label=\"Fulfilled Sales\", color=\"green\")\n",
    "    ax.plot(forecast_weeks, inventory_levels[sku], label=\"Inventory Levels\", color=\"orange\")\n",
    "    ax.stem(forecast_weeks, reorder_weeks[sku], label=\"Reorder Amounts\", linefmt=\"purple\", markerfmt=\"o\", basefmt=\" \")\n",
    "    ax.set_title(f\"SKU {skus[sku]}: Sales, Inventory, and Reorder Levels\")\n",
    "    ax.set_xlabel(\"Weeks\")\n",
    "    ax.set_ylabel(\"Units\")\n",
    "    ax.legend()\n",
    "\n",
    "plt.tight_layout()\n",
    "plt.show()"
   ]
  },
  {
   "cell_type": "code",
   "execution_count": null,
   "metadata": {},
   "outputs": [],
   "source": []
  }
 ],
 "metadata": {
  "kernelspec": {
   "display_name": "base",
   "language": "python",
   "name": "python3"
  },
  "language_info": {
   "codemirror_mode": {
    "name": "ipython",
    "version": 3
   },
   "file_extension": ".py",
   "mimetype": "text/x-python",
   "name": "python",
   "nbconvert_exporter": "python",
   "pygments_lexer": "ipython3",
   "version": "3.12.2"
  }
 },
 "nbformat": 4,
 "nbformat_minor": 2
}
