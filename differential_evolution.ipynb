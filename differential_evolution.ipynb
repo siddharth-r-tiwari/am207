{
 "cells": [
  {
   "cell_type": "code",
   "execution_count": 58,
   "metadata": {},
   "outputs": [],
   "source": [
    "import pandas as pd\n",
    "import numpy as np"
   ]
  },
  {
   "cell_type": "code",
   "execution_count": 59,
   "metadata": {},
   "outputs": [],
   "source": [
    "forecasted_info = pd.read_csv(\"ForecastedInformation.csv\")"
   ]
  },
  {
   "cell_type": "markdown",
   "metadata": {},
   "source": [
    "### Helper Functions for Differential Evolution"
   ]
  },
  {
   "cell_type": "code",
   "execution_count": 60,
   "metadata": {},
   "outputs": [],
   "source": [
    "# Creates a population with population size rows and 2N columns (1 for each parameter)\n",
    "def initialize_population(bounds, population_size):\n",
    "    population = np.zeros((population_size, len(bounds)))\n",
    "    for i in range(len(bounds)):\n",
    "        population[:, i] = np.random.uniform(bounds[i][0], bounds[i][1], population_size)\n",
    "    return population"
   ]
  },
  {
   "cell_type": "code",
   "execution_count": 61,
   "metadata": {},
   "outputs": [],
   "source": [
    "def mutate(individual_index, population, mutation_factor, bounds):\n",
    "    indices = np.array([i for i in range(len(population)) if i != individual_index])\n",
    "    selected_indices = np.random.choice(indices, 3, replace=False)\n",
    "    a, b, c = population[selected_indices[0]], population[selected_indices[1]], population[selected_indices[2]]\n",
    "    mutant = a + mutation_factor * (b - c)\n",
    "    mutant = np.clip(mutant, [bound[0] for bound in bounds], [bound[1] for bound in bounds])\n",
    "    return mutant"
   ]
  },
  {
   "cell_type": "code",
   "execution_count": 62,
   "metadata": {},
   "outputs": [],
   "source": [
    "def crossover(target, mutant, crossover_prob):\n",
    "    # Generate a mask based on the crossover probability\n",
    "    mask = np.random.rand(len(target)) < crossover_prob\n",
    "    # Apply the mask to choose elements from the mutant\n",
    "    trial = np.where(mask, mutant, target)\n",
    "    return trial"
   ]
  },
  {
   "cell_type": "code",
   "execution_count": 63,
   "metadata": {},
   "outputs": [],
   "source": [
    "def differential_evolution(objective_function, parameter_bounds, population_size, n_generations, mutation_factor, p_crossover):\n",
    "    # Initialize population and maintain current fitnesses\n",
    "    population = initialize_population(parameter_bounds, population_size)\n",
    "    fitness = np.array([objective_function(individual) for individual in population])\n",
    "\n",
    "    for _ in range(n_generations):\n",
    "        new_population = population.copy()\n",
    "        for i in range(population_size):\n",
    "            # Mutation\n",
    "            mutant = mutate(i, population, mutation_factor, parameter_bounds)\n",
    "            # Crossover\n",
    "            trial = crossover(population[i], mutant, p_crossover)\n",
    "            # Evaluation\n",
    "            trial_fitness = objective_function(trial)\n",
    "            if trial_fitness > fitness[i]:\n",
    "                new_population[i] = trial\n",
    "                fitness[i] = trial_fitness\n",
    "    best_index = np.argmax(fitness)\n",
    "    return population[best_index], fitness[best_index]"
   ]
  },
  {
   "cell_type": "markdown",
   "metadata": {},
   "source": [
    "### Inputs to the function"
   ]
  },
  {
   "cell_type": "code",
   "execution_count": 64,
   "metadata": {},
   "outputs": [],
   "source": [
    "# Generate bounds for each SKU\n",
    "num_skus = len(forecasted_info[\"Pcode\"].unique())\n",
    "\n",
    "# Policy decision period\n",
    "max_order_frequency = 10 # In weeks, this is up to the user!\n",
    "\n",
    "# Parameters are a 2*num_skus by 2 matrix\n",
    "# Each entry contains array of upper and lower bound\n",
    "parameter_bounds = np.zeros((2*num_skus, 2))\n",
    "# All lower bounds remain 0\n",
    "for i, sku in enumerate(forecasted_info[\"Pcode\"].unique()):\n",
    "    temp_df = forecasted_info[forecasted_info[\"Pcode\"] == sku]\n",
    "    parameter_bounds[2*i][1] = int(temp_df[\"Quantity Sold\"].max())\n",
    "    parameter_bounds[2*i+1][1] = max_order_frequency\n",
    "\n",
    "# Some additional hyperparameters to tune of differential evolution\n",
    "population_size = 100 \n",
    "n_generations = 100 # This is QUITE susceptible to change\n",
    "mutation_factor = 1 # This has to be a constant from 0 to 2\n",
    "p_crossover = 0.3 # between 0 and 1"
   ]
  },
  {
   "cell_type": "markdown",
   "metadata": {},
   "source": [
    "### Define objective functions and variables that it needs"
   ]
  },
  {
   "cell_type": "code",
   "execution_count": 65,
   "metadata": {},
   "outputs": [],
   "source": [
    "# Variable definitions\n",
    "num_skus = num_skus # As defined above\n",
    "policy_optimization_period = 5 # Should equal max_order_frequency from above\n",
    "df = forecasted_info # Contains all info about each sku\n",
    "# Should convert it into the following form:\n",
    "skus = forecasted_info[\"Pcode\"].unique()\n",
    "# Then convert this into the forms we want for optimization\n",
    "prices = np.zeros((num_skus, 1))\n",
    "forecast_weeks = [104, 105, 106, 107, 108] # Somehow, need to relate this to policy optimization period\n",
    "quantities = np.zeros((num_skus, len(forecast_weeks)))\n",
    "for j, sku in enumerate(skus):\n",
    "    temp_df = forecasted_info[forecasted_info[\"Pcode\"] == sku]\n",
    "    prices[j] = (temp_df.iloc[0][\"Price\"][1:])\n",
    "    # ELIZA TODO: figure out why accidentally created duplicates when created the forecasted information df\n",
    "    quantity_df = temp_df[temp_df[\"Week\"].isin(forecast_weeks)].iloc[0:len(forecast_weeks)]\n",
    "    quantities[j] = np.array(quantity_df[\"Quantity Sold\"])\n",
    "# NOW: prices and quantities have the info we need"
   ]
  },
  {
   "cell_type": "code",
   "execution_count": 66,
   "metadata": {},
   "outputs": [],
   "source": [
    "# Define objective function based on values above\n",
    "def f(individual):\n",
    "    # Individual is a list of 2N values which is parameters for each SKU in the space\n",
    "    # Combination of 1) Missed Sales 2) Inventory 3) Cost of buying stuff\n",
    "\n",
    "    # Calculation of Missed Sales\n",
    "\n",
    "    # For each SKU, start with first order simulation by getting even individual entries\n",
    "    sku_quantities = np.zeros((num_skus, 1))\n",
    "    frequencies = individual[1::2]\n",
    "    # Then starting at the first week, try to enact the policy\n",
    "    missed_sales = 0\n",
    "    inventory = 0\n",
    "    reorder_cost = 0\n",
    "    for i in range(0, policy_optimization_period): \n",
    "        # Calculate the amount from that week from the df\n",
    "        # Subtract it from the sku_quantity\n",
    "        for j in range(num_skus):\n",
    "            # Account for potential restock (but don't double count the first week)\n",
    "            if frequencies[j] % i == 0:\n",
    "                sku_quantities[j] += individual[2*j] # Add the amount from reorder\n",
    "\n",
    "                # Cost of buying stuff (reorder_cost)\n",
    "                # TODO: Sidd, can you change the costs to be nonzero amounts even though we would fabricate this data somehow\n",
    "                # NOTE: I am currently pretending the cost is just 1\n",
    "                reorder_cost += 1 # Here, instead, we would just do cost[j] or whever but we need a cost array\n",
    "\n",
    "            # quantities j i is the amount of sku j sold in week i\n",
    "            sku_quantities[j] = sku_quantities[j] - quantities[j][i]\n",
    "            if sku_quantities[j] < 0:\n",
    "                missed_sales += (-1)*sku_quantities[j]*prices[j] #-1 because sku quantities is negative here and we add to missed sales\n",
    "                sku_quantities[j] = 0\n",
    "\n",
    "        # This just calculates the inventory quantity\n",
    "        inventory += sum(sku_quantities) # TODO Sidd- you can add all your notes about how much space each takes up and whatever here\n",
    "    \n",
    "    return missed_sales + inventory + reorder_cost"
   ]
  },
  {
   "cell_type": "code",
   "execution_count": 67,
   "metadata": {},
   "outputs": [],
   "source": [
    "#### DIFFERENTIAL EVOLUTION INPUTS ####\n",
    "objective_function = f\n",
    "parameter_bounds = parameter_bounds\n",
    "populationSize = population_size\n",
    "n_generations = n_generations\n",
    "mutation_factor = mutation_factor\n",
    "p_crossover = 0.3\n",
    "\n",
    "best_parameters, score = differential_evolution(objective_function, parameter_bounds, population_size, n_generations, mutation_factor, p_crossover)"
   ]
  },
  {
   "cell_type": "markdown",
   "metadata": {},
   "source": [
    "Next steps\n",
    "(Sidd, def do the ones I put your name by and hopefully the rest of them too except for 5 lol)\n",
    "(also, currently takes 2.5 minutes to run which def we cld cut down! compare to this number for stats)\n",
    "1. Make the objective function significantly faster (remove for loops)\n",
    "2. Figure out how to use numpy to remove the inner for loop in the algorithm\n",
    "3. (Sidd) allow the inventory and reorder cost to take in the volumes and cost of reordering each indiviudal item / fix them if they are not how u want them\n",
    "4. Implement hyperparameter search– what does this mean? For populationSize, n_generations, mutation_factor and p_crossover, run the algorithm for a grid of specific quantities and find the best set of these configurations that allow for lowest score (we have to be careful about the best way to do this, might be some sort of optimization as well– Sidd you can think through this)\n",
    "5. (Eliza) figure out why the ForecastedInformation.csv has duplicates lol (I just removed them for now)\n",
    "6. Benchmark our progress– not sure how we would do this– lmk what you think Sidd"
   ]
  },
  {
   "cell_type": "markdown",
   "metadata": {},
   "source": [
    "NOTE: user inputs\n",
    "- policy_optimization_period\n",
    "- forecast_weeks (which exact weeks of df we are forecasting)"
   ]
  },
  {
   "cell_type": "code",
   "execution_count": null,
   "metadata": {},
   "outputs": [],
   "source": []
  }
 ],
 "metadata": {
  "kernelspec": {
   "display_name": "base",
   "language": "python",
   "name": "python3"
  },
  "language_info": {
   "codemirror_mode": {
    "name": "ipython",
    "version": 3
   },
   "file_extension": ".py",
   "mimetype": "text/x-python",
   "name": "python",
   "nbconvert_exporter": "python",
   "pygments_lexer": "ipython3",
   "version": "3.12.2"
  }
 },
 "nbformat": 4,
 "nbformat_minor": 2
}
